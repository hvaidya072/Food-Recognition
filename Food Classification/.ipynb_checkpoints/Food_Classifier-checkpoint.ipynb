{
 "cells": [
  {
   "cell_type": "code",
   "execution_count": 2,
   "metadata": {
    "colab": {
     "base_uri": "https://localhost:8080/",
     "height": 122
    },
    "colab_type": "code",
    "executionInfo": {
     "elapsed": 41315,
     "status": "ok",
     "timestamp": 1553920962217,
     "user": {
      "displayName": "Amar Vishwakarma",
      "photoUrl": "https://lh6.googleusercontent.com/-Hv1uSGRDN10/AAAAAAAAAAI/AAAAAAAALMA/CvX2wQ3zUXU/s64/photo.jpg",
      "userId": "16225250457487878648"
     },
     "user_tz": -330
    },
    "id": "tTaPzC7nAPrY",
    "outputId": "c873c3ca-36cc-401a-a86d-d950b1ace1f2"
   },
   "outputs": [
    {
     "name": "stdout",
     "output_type": "stream",
     "text": [
      "Go to this URL in a browser: https://accounts.google.com/o/oauth2/auth?client_id=947318989803-6bn6qk8qdgf4n4g3pfee6491hc0brc4i.apps.googleusercontent.com&redirect_uri=urn%3Aietf%3Awg%3Aoauth%3A2.0%3Aoob&scope=email%20https%3A%2F%2Fwww.googleapis.com%2Fauth%2Fdocs.test%20https%3A%2F%2Fwww.googleapis.com%2Fauth%2Fdrive%20https%3A%2F%2Fwww.googleapis.com%2Fauth%2Fdrive.photos.readonly%20https%3A%2F%2Fwww.googleapis.com%2Fauth%2Fpeopleapi.readonly&response_type=code\n",
      "\n",
      "Enter your authorization code:\n",
      "··········\n",
      "Mounted at /content/drive\n"
     ]
    }
   ],
   "source": [
    "from google.colab import drive\n",
    "drive.mount('/content/drive')\n"
   ]
  },
  {
   "cell_type": "code",
   "execution_count": 0,
   "metadata": {
    "colab": {},
    "colab_type": "code",
    "id": "2V_OWlR-tY1P"
   },
   "outputs": [],
   "source": [
    "import zipfile\n",
    "\n",
    "local_zip = '/content/drive/My Drive/Colab Notebooks/Dataset.zip'\n",
    "zip_ref = zipfile.ZipFile(local_zip, 'r')\n",
    "zip_ref.extractall('/content/drive/My Drive/Colab Notebooks/Dataset')\n",
    "zip_ref.close()"
   ]
  },
  {
   "cell_type": "code",
   "execution_count": 0,
   "metadata": {
    "colab": {
     "base_uri": "https://localhost:8080/",
     "height": 34
    },
    "colab_type": "code",
    "executionInfo": {
     "elapsed": 1359,
     "status": "ok",
     "timestamp": 1553874099558,
     "user": {
      "displayName": "Amar Vishwakarma",
      "photoUrl": "https://lh6.googleusercontent.com/-Hv1uSGRDN10/AAAAAAAAAAI/AAAAAAAALMA/CvX2wQ3zUXU/s64/photo.jpg",
      "userId": "16225250457487878648"
     },
     "user_tz": -330
    },
    "id": "zBBcume7AcTf",
    "outputId": "9f84aeb8-3080-4f7c-b99b-8b15ab13bb8d"
   },
   "outputs": [
    {
     "name": "stdout",
     "output_type": "stream",
     "text": [
      "/content/drive/My Drive/Colab Notebooks\n"
     ]
    }
   ],
   "source": [
    "cd /content/drive/My Drive/Colab Notebooks\n"
   ]
  },
  {
   "cell_type": "code",
   "execution_count": 8,
   "metadata": {
    "colab": {
     "base_uri": "https://localhost:8080/",
     "height": 34
    },
    "colab_type": "code",
    "executionInfo": {
     "elapsed": 2868,
     "status": "ok",
     "timestamp": 1553921309923,
     "user": {
      "displayName": "Amar Vishwakarma",
      "photoUrl": "https://lh6.googleusercontent.com/-Hv1uSGRDN10/AAAAAAAAAAI/AAAAAAAALMA/CvX2wQ3zUXU/s64/photo.jpg",
      "userId": "16225250457487878648"
     },
     "user_tz": -330
    },
    "id": "1xn7OW9oTpvP",
    "outputId": "644ec0b7-634a-4423-a17c-a99a04f0df48"
   },
   "outputs": [
    {
     "name": "stderr",
     "output_type": "stream",
     "text": [
      "Using TensorFlow backend.\n"
     ]
    }
   ],
   "source": [
    "import os\n",
    "from tensorflow.keras.optimizers import RMSprop\n",
    "from tensorflow.keras.preprocessing.image import ImageDataGenerator\n",
    "import numpy as np\n",
    "from keras.preprocessing import image\n",
    "from google.colab import files\n",
    "import tensorflow as tf"
   ]
  },
  {
   "cell_type": "code",
   "execution_count": 0,
   "metadata": {
    "colab": {},
    "colab_type": "code",
    "id": "jQH8LpTVTtSW"
   },
   "outputs": [],
   "source": [
    "# Directory with our training pizza images\n",
    "train_chicken_curry_dir = os.path.join('/content/drive/My Drive/Colab Notebooks/Dataset/chicken_curry')\n",
    "train_donuts_dir = os.path.join('/content/drive/My Drive/Colab Notebooks/Dataset/donuts')\n",
    "train_french_fries_dir = os.path.join('/content/drive/My Drive/Colab Notebooks/Dataset/french_fries')\n",
    "train_fried_rice_dir = os.path.join('/content/drive/My Drive/Colab Notebooks/Dataset/fried_rice')\n",
    "train_frozen_yogurt_dir = os.path.join('/content/drive/My Drive/Colab Notebooks/Dataset/frozen_yogurt')\n",
    "train_garlic_bread_dir = os.path.join('/content/drive/My Drive/Colab Notebooks/Dataset/garlic_bread')\n",
    "train_hamburger_dir = os.path.join('/content/drive/My Drive/Colab Notebooks/Dataset/hamburger')\n",
    "train_hot_and_sour_soup_dir = os.path.join('/content/drive/My Drive/Colab Notebooks/Dataset/hot_and_sour_soup')\n",
    "train_hot_dog_dir = os.path.join('/content/drive/My Drive/Colab Notebooks/Dataset/hot_dog')\n",
    "train_ice_cream_dir = os.path.join('/content/drive/My Drive/Colab Notebooks/Dataset/ice_cream')\n",
    "train_omelette_dir = os.path.join('/content/drive/My Drive/Colab Notebooks/Dataset/omelette')\n",
    "train_pizza_dir = os.path.join('/content/drive/My Drive/Colab Notebooks/Dataset/pizza')\n",
    "train_samosa_dir = os.path.join('/content/drive/My Drive/Colab Notebooks/Dataset/samosa')\n",
    "train_sushi_dir = os.path.join('/content/drive/My Drive/Colab Notebooks/Dataset/sushi')\n",
    "train_waffles_dir = os.path.join('/content/drive/My Drive/Colab Notebooks/Dataset/waffles')\n",
    "\n",
    "train_chicken_curry_names = os.listdir(train_chicken_curry_dir)\n",
    "train_donuts_names = os.listdir(train_donuts_dir)\n",
    "train_french_fries_names = os.listdir(train_french_fries_dir)\n",
    "train_fried_rice_names = os.listdir(train_fried_rice_dir)\n",
    "train_frozen_yogurt_names = os.listdir(train_frozen_yogurt_dir)\n",
    "train_garlic_bread_names = os.listdir(train_garlic_bread_dir)\n",
    "train_hamburger_names = os.listdir(train_hamburger_dir)\n",
    "train_hot_and_sour_soup_names = os.listdir(train_hot_and_sour_soup_dir)\n",
    "train_hot_dog_names = os.listdir(train_hot_dog_dir)\n",
    "train_ice_cream_names = os.listdir(train_ice_cream_dir)\n",
    "train_omelette_names = os.listdir(train_omelette_dir)\n",
    "train_pizza_names = os.listdir(train_pizza_dir)\n",
    "train_samosa_names = os.listdir(train_samosa_dir)\n",
    "train_sushi_names = os.listdir(train_sushi_dir)\n",
    "train_waffles_names = os.listdir(train_waffles_dir)"
   ]
  },
  {
   "cell_type": "code",
   "execution_count": 54,
   "metadata": {
    "colab": {
     "base_uri": "https://localhost:8080/",
     "height": 374
    },
    "colab_type": "code",
    "executionInfo": {
     "elapsed": 1454,
     "status": "ok",
     "timestamp": 1553934884170,
     "user": {
      "displayName": "Amar Vishwakarma",
      "photoUrl": "https://lh6.googleusercontent.com/-Hv1uSGRDN10/AAAAAAAAAAI/AAAAAAAALMA/CvX2wQ3zUXU/s64/photo.jpg",
      "userId": "16225250457487878648"
     },
     "user_tz": -330
    },
    "id": "8tobryROAMlW",
    "outputId": "0e5d8e91-25a4-440d-b6a7-e72ac1dc6d37"
   },
   "outputs": [
    {
     "name": "stdout",
     "output_type": "stream",
     "text": [
      "_________________________________________________________________\n",
      "Layer (type)                 Output Shape              Param #   \n",
      "=================================================================\n",
      "conv2d_17 (Conv2D)           (None, 148, 148, 16)      448       \n",
      "_________________________________________________________________\n",
      "max_pooling2d_17 (MaxPooling (None, 74, 74, 16)        0         \n",
      "_________________________________________________________________\n",
      "conv2d_18 (Conv2D)           (None, 72, 72, 32)        4640      \n",
      "_________________________________________________________________\n",
      "max_pooling2d_18 (MaxPooling (None, 36, 36, 32)        0         \n",
      "_________________________________________________________________\n",
      "flatten_5 (Flatten)          (None, 41472)             0         \n",
      "_________________________________________________________________\n",
      "dense_10 (Dense)             (None, 512)               21234176  \n",
      "_________________________________________________________________\n",
      "dense_11 (Dense)             (None, 15)                7695      \n",
      "=================================================================\n",
      "Total params: 21,246,959\n",
      "Trainable params: 21,246,959\n",
      "Non-trainable params: 0\n",
      "_________________________________________________________________\n"
     ]
    }
   ],
   "source": [
    "model = tf.keras.models.Sequential([\n",
    "    # Note the input shape is the desired size of the image 300x300 with 3 bytes color\n",
    "    # This is the first convolution\n",
    "    tf.keras.layers.Conv2D(16, (3,3), activation='relu', input_shape=(150, 150, 3)),\n",
    "    tf.keras.layers.MaxPooling2D(2, 2),\n",
    "    # The second convolution\n",
    "    tf.keras.layers.Conv2D(32, (3,3), activation='relu'),\n",
    "    tf.keras.layers.MaxPooling2D(2,2),\n",
    "    # The third convolution\n",
    "    tf.keras.layers.Conv2D(64, (3,3), activation='relu'),\n",
    "    tf.keras.layers.MaxPooling2D(2,2),\n",
    "    # The fourth convolution\n",
    "#     tf.keras.layers.Conv2D(64, (3,3), activation='relu'),\n",
    "#     tf.keras.layers.MaxPooling2D(2,2),\n",
    "#     # The fifth convolution\n",
    "#     tf.keras.layers.Conv2D(64, (3,3), activation='relu'),\n",
    "#     tf.keras.layers.MaxPooling2D(2,2),\n",
    "    # Flatten the results to feed into a DNN\n",
    "    tf.keras.layers.Flatten(),\n",
    "    # 512 neuron hidden layer\n",
    "    tf.keras.layers.Dense(512, activation='relu'),\n",
    "    # Only 1 output neuron. It will contain a value from 0-1 where 0 for 1 class ('paneer_pizza') and 1 for the other ('horses')\n",
    "    tf.keras.layers.Dense(15, activation='softmax')\n",
    "])\n",
    "\n",
    "model.summary()"
   ]
  },
  {
   "cell_type": "code",
   "execution_count": 55,
   "metadata": {
    "colab": {
     "base_uri": "https://localhost:8080/",
     "height": 34
    },
    "colab_type": "code",
    "executionInfo": {
     "elapsed": 1790,
     "status": "ok",
     "timestamp": 1553934891220,
     "user": {
      "displayName": "Amar Vishwakarma",
      "photoUrl": "https://lh6.googleusercontent.com/-Hv1uSGRDN10/AAAAAAAAAAI/AAAAAAAALMA/CvX2wQ3zUXU/s64/photo.jpg",
      "userId": "16225250457487878648"
     },
     "user_tz": -330
    },
    "id": "jyP9uhQSTyV_",
    "outputId": "0d210c1c-79db-4735-ef41-cbae4a0f9066"
   },
   "outputs": [
    {
     "name": "stdout",
     "output_type": "stream",
     "text": [
      "Found 15000 images belonging to 15 classes.\n"
     ]
    }
   ],
   "source": [
    "model.compile(loss='categorical_crossentropy', optimizer = 'adam' , metrics = ['accuracy'])\n",
    "#              optimizer=RMSprop(lr=0.001),\n",
    "#             metrics=['acc'])\n",
    "\n",
    "# All images will be rescaled by 1./255\n",
    "train_datagen = ImageDataGenerator(rescale=1/255)\n",
    "\n",
    "# Flow training images in batches of 128 using train_datagen generator\n",
    "train_generator = train_datagen.flow_from_directory(\n",
    "        '/content/drive/My Drive/Colab Notebooks/Dataset/',   # This is the source directory for training images\n",
    "        target_size=(150, 150),  # All images will be resized to 150x150\n",
    "        batch_size=128,\n",
    "        # Since we use binary_crossentropy loss, we need binary labels\n",
    "        class_mode='categorical')"
   ]
  },
  {
   "cell_type": "code",
   "execution_count": 57,
   "metadata": {
    "colab": {
     "base_uri": "https://localhost:8080/",
     "height": 1037
    },
    "colab_type": "code",
    "executionInfo": {
     "elapsed": 881179,
     "status": "ok",
     "timestamp": 1553938054303,
     "user": {
      "displayName": "Amar Vishwakarma",
      "photoUrl": "https://lh6.googleusercontent.com/-Hv1uSGRDN10/AAAAAAAAAAI/AAAAAAAALMA/CvX2wQ3zUXU/s64/photo.jpg",
      "userId": "16225250457487878648"
     },
     "user_tz": -330
    },
    "id": "MdQhE0kRJwJ_",
    "outputId": "94bda2b5-b839-4cbc-bd44-976455ee4c39"
   },
   "outputs": [
    {
     "name": "stdout",
     "output_type": "stream",
     "text": [
      "Epoch 1/30\n",
      "118/118 [==============================] - 98s 833ms/step - loss: 2.4797 - acc: 0.1841\n",
      "Epoch 2/30\n",
      "118/118 [==============================] - 97s 819ms/step - loss: 2.1433 - acc: 0.3191\n",
      "Epoch 3/30\n",
      "118/118 [==============================] - 97s 820ms/step - loss: 1.7672 - acc: 0.4439\n",
      "Epoch 4/30\n",
      "118/118 [==============================] - 98s 827ms/step - loss: 1.2892 - acc: 0.6051\n",
      "Epoch 5/30\n",
      "118/118 [==============================] - 98s 830ms/step - loss: 0.7483 - acc: 0.7807\n",
      "Epoch 6/30\n",
      "118/118 [==============================] - 97s 819ms/step - loss: 0.3485 - acc: 0.9124\n",
      "Epoch 7/30\n",
      "118/118 [==============================] - 98s 830ms/step - loss: 0.1499 - acc: 0.9702\n",
      "Epoch 8/30\n",
      "118/118 [==============================] - 97s 825ms/step - loss: 0.0638 - acc: 0.9904\n",
      "Epoch 9/30\n",
      "118/118 [==============================] - 97s 820ms/step - loss: 0.0324 - acc: 0.9966\n",
      "Epoch 10/30\n",
      "118/118 [==============================] - 97s 826ms/step - loss: 0.0129 - acc: 0.9994\n",
      "Epoch 11/30\n",
      "118/118 [==============================] - 97s 823ms/step - loss: 0.0137 - acc: 0.9984\n",
      "Epoch 12/30\n",
      "118/118 [==============================] - 96s 816ms/step - loss: 0.0191 - acc: 0.9973\n",
      "Epoch 13/30\n",
      "118/118 [==============================] - 96s 814ms/step - loss: 0.0511 - acc: 0.9883\n",
      "Epoch 14/30\n",
      "118/118 [==============================] - 97s 825ms/step - loss: 0.0407 - acc: 0.9916\n",
      "Epoch 15/30\n",
      "118/118 [==============================] - 96s 816ms/step - loss: 0.0426 - acc: 0.9908\n",
      "Epoch 16/30\n",
      "118/118 [==============================] - 95s 808ms/step - loss: 0.0318 - acc: 0.9931\n",
      "Epoch 17/30\n",
      "118/118 [==============================] - 97s 818ms/step - loss: 0.0289 - acc: 0.9938\n",
      "Epoch 18/30\n",
      "118/118 [==============================] - 96s 815ms/step - loss: 0.0192 - acc: 0.9963\n",
      "Epoch 19/30\n",
      "118/118 [==============================] - 96s 810ms/step - loss: 0.0092 - acc: 0.9986\n",
      "Epoch 20/30\n",
      "118/118 [==============================] - 96s 816ms/step - loss: 0.0155 - acc: 0.9971\n",
      "Epoch 21/30\n",
      "118/118 [==============================] - 96s 817ms/step - loss: 0.0264 - acc: 0.9941\n",
      "Epoch 22/30\n",
      "118/118 [==============================] - 95s 804ms/step - loss: 0.0364 - acc: 0.9908\n",
      "Epoch 23/30\n",
      "118/118 [==============================] - 96s 816ms/step - loss: 0.0279 - acc: 0.9933\n",
      "Epoch 24/30\n",
      "118/118 [==============================] - 96s 818ms/step - loss: 0.0173 - acc: 0.9962\n",
      "Epoch 25/30\n",
      "118/118 [==============================] - 96s 814ms/step - loss: 0.0075 - acc: 0.9985\n",
      "Epoch 26/30\n",
      "118/118 [==============================] - 96s 811ms/step - loss: 0.0025 - acc: 0.9999\n",
      "Epoch 27/30\n",
      "118/118 [==============================] - 96s 817ms/step - loss: 0.0015 - acc: 0.9999\n",
      "Epoch 28/30\n",
      "118/118 [==============================] - 95s 806ms/step - loss: 0.0014 - acc: 0.9999\n",
      "Epoch 29/30\n",
      "118/118 [==============================] - 95s 806ms/step - loss: 0.0013 - acc: 0.9999\n",
      "Epoch 30/30\n",
      "118/118 [==============================] - 96s 816ms/step - loss: 0.0013 - acc: 0.9999\n"
     ]
    }
   ],
   "source": [
    "history = model.fit_generator(\n",
    "      train_generator,\n",
    "      steps_per_epoch=20,  \n",
    "      epochs=30,\n",
    "      verbose=1)"
   ]
  },
  {
   "cell_type": "code",
   "execution_count": 0,
   "metadata": {
    "colab": {},
    "colab_type": "code",
    "id": "tBPmPAEMX2M7"
   },
   "outputs": [],
   "source": [
    "cd /content/drive/My Drive/"
   ]
  },
  {
   "cell_type": "code",
   "execution_count": 0,
   "metadata": {
    "colab": {},
    "colab_type": "code",
    "id": "l0H7XB4nx9o_"
   },
   "outputs": [],
   "source": [
    "model.save(\"Trained_epoch_30.model\")"
   ]
  },
  {
   "cell_type": "code",
   "execution_count": 0,
   "metadata": {
    "colab": {},
    "colab_type": "code",
    "id": "_-7cKwWXvSHn"
   },
   "outputs": [],
   "source": [
    "!ls"
   ]
  },
  {
   "cell_type": "code",
   "execution_count": 70,
   "metadata": {
    "colab": {
     "base_uri": "https://localhost:8080/",
     "height": 51
    },
    "colab_type": "code",
    "executionInfo": {
     "elapsed": 1411,
     "status": "ok",
     "timestamp": 1553940208737,
     "user": {
      "displayName": "Amar Vishwakarma",
      "photoUrl": "https://lh6.googleusercontent.com/-Hv1uSGRDN10/AAAAAAAAAAI/AAAAAAAALMA/CvX2wQ3zUXU/s64/photo.jpg",
      "userId": "16225250457487878648"
     },
     "user_tz": -330
    },
    "id": "dCfW29dnDEvR",
    "outputId": "9711d4ef-ec97-405b-c489-153a60933faf"
   },
   "outputs": [
    {
     "name": "stdout",
     "output_type": "stream",
     "text": [
      "[[0. 0. 0. 0. 0. 0. 0. 0. 0. 0. 0. 1. 0. 0. 0.]]\n"
     ]
    },
    {
     "data": {
      "text/plain": [
       "['Pizza', 266]"
      ]
     },
     "execution_count": 70,
     "metadata": {
      "tags": []
     },
     "output_type": "execute_result"
    }
   ],
   "source": [
    "import numpy as np\n",
    "from google.colab import files\n",
    "from keras.preprocessing import image\n",
    "\n",
    "# predicting images  \n",
    "path = '/content/drive/My Drive/Colab Notebooks/' + 'him.jpg'\n",
    "img = image.load_img(path, target_size=(150, 150))\n",
    "x = image.img_to_array(img)\n",
    "x = np.expand_dims(x, axis=0)\n",
    "images = np.vstack([x])\n",
    "classes = model.predict(images, batch_size=10)\n",
    "print(classes)\n",
    "prediction = np.argmax(classes)\n",
    "def classifier(prediction):\n",
    "  switcher = {\n",
    "      0: [\"Chicken Curry\",110],\n",
    "      1: [\"Donuts\",452],\n",
    "      2: [\"French Fries\",312],\n",
    "      3: [\"Fried Rice\",163],\n",
    "      4: [\"Frozen Yogurt\",159],\n",
    "      5: [\"Garlic Bread\",350],\n",
    "      6: [\"Hamburger\",295],\n",
    "      7: [\"Hot and Sour Soup\",39],\n",
    "      8: [\"Hot Dog\",290],\n",
    "      9: [\"Ice Cream\",207],\n",
    "      10: [\"Omelette\",154],\n",
    "      11: [\"Pizza\",266],\n",
    "      12: [\"Samosa\",262],\n",
    "      13: [\"Sushi\",65],\n",
    "      14: [\"Waffles\",291]\n",
    "  }\n",
    "  return switcher[prediction] \n",
    "\n",
    "# print(food)\n",
    "\n",
    "classifier(prediction)\n",
    "# print(cal)"
   ]
  },
  {
   "cell_type": "code",
   "execution_count": 0,
   "metadata": {
    "colab": {},
    "colab_type": "code",
    "id": "UfjAdHDeeEpK"
   },
   "outputs": [],
   "source": []
  },
  {
   "cell_type": "code",
   "execution_count": 0,
   "metadata": {
    "colab": {},
    "colab_type": "code",
    "id": "o6t4G-uPcIR0"
   },
   "outputs": [],
   "source": []
  }
 ],
 "metadata": {
  "accelerator": "GPU",
  "colab": {
   "collapsed_sections": [],
   "name": "Food_Classifier.ipynb",
   "provenance": [
    {
     "file_id": "1n0mgQBaVAuxKaTz6OJ_6uGftOcZwY0B4",
     "timestamp": 1553858057200
    }
   ],
   "version": "0.3.2"
  },
  "kernelspec": {
   "display_name": "Python 3",
   "language": "python",
   "name": "python3"
  },
  "language_info": {
   "codemirror_mode": {
    "name": "ipython",
    "version": 3
   },
   "file_extension": ".py",
   "mimetype": "text/x-python",
   "name": "python",
   "nbconvert_exporter": "python",
   "pygments_lexer": "ipython3",
   "version": "3.6.6"
  }
 },
 "nbformat": 4,
 "nbformat_minor": 1
}
