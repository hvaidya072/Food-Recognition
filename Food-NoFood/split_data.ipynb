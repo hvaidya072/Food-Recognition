{
 "cells": [
  {
   "cell_type": "code",
   "execution_count": 1,
   "metadata": {},
   "outputs": [],
   "source": [
    "import random\n",
    "import shutil\n",
    "import os"
   ]
  },
  {
   "cell_type": "code",
   "execution_count": 12,
   "metadata": {},
   "outputs": [],
   "source": [
    "train_dir = r'C:\\Project\\Food NoFood\\Food-No Food\\train _images'\n",
    "test_dir = r'C:\\Project\\Food NoFood\\Food-No Food\\valid_images'\n",
    "\n",
    "categories = os.listdir(train_dir)"
   ]
  },
  {
   "cell_type": "code",
   "execution_count": 13,
   "metadata": {},
   "outputs": [],
   "source": [
    "for cat in categories:\n",
    "    cat_path = os.path.join(train_dir,cat)\n",
    "    img_path = os.listdir(os.path.join(train_dir,cat))\n",
    "    random.shuffle(img_path)\n",
    "    for img in img_path[:3000]:\n",
    "        shutil.move(os.path.join(cat_path,img),os.path.join(test_dir,cat,img))"
   ]
  },
  {
   "cell_type": "code",
   "execution_count": null,
   "metadata": {},
   "outputs": [],
   "source": []
  }
 ],
 "metadata": {
  "kernelspec": {
   "display_name": "Python 3",
   "language": "python",
   "name": "python3"
  },
  "language_info": {
   "codemirror_mode": {
    "name": "ipython",
    "version": 3
   },
   "file_extension": ".py",
   "mimetype": "text/x-python",
   "name": "python",
   "nbconvert_exporter": "python",
   "pygments_lexer": "ipython3",
   "version": "3.6.6"
  }
 },
 "nbformat": 4,
 "nbformat_minor": 2
}
